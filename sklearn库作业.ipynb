{
 "cells": [
  {
   "attachments": {},
   "cell_type": "markdown",
   "id": "f66c8323",
   "metadata": {},
   "source": [
    "### 数据分析-sklearn库练习-Boston房价预测\n",
    "\n",
    "本次作业的任务是熟悉sklearn库各个模块的应用，为后续10大算法的学习和实战奠定基础。"
   ]
  },
  {
   "cell_type": "code",
   "execution_count": 58,
   "id": "76bdc7b9",
   "metadata": {},
   "outputs": [
    {
     "name": "stdout",
     "output_type": "stream",
     "text": [
      "(4600, 18)\n"
     ]
    }
   ],
   "source": [
    "#step one :导入数据\n",
    "import pandas as pd\n",
    "import matplotlib.pyplot as plt\n",
    "import seaborn as sns\n",
    "import numpy as np\n",
    "from sklearn.neighbors import KNeighborsRegressor\n",
    "from sklearn.model_selection import train_test_split\n",
    "from sklearn.preprocessing import StandardScaler\n",
    "from sklearn.datasets import load_digits\n",
    "from sklearn.model_selection import learning_curve\n",
    "from sklearn.ensemble import RandomForestClassifier\n",
    "from sklearn.model_selection import validation_curve\n",
    "from sklearn.model_selection import cross_val_score, KFold\n",
    "\n",
    "# 1.1 读入指定的数据\n",
    "data = pd.read_csv('data.csv')\n",
    "\n",
    "# 1.2 查看数据的形状\n",
    "print(data.shape)\n",
    "\n",
    "#在这个项目中，你将使用我提供美国房屋信息数据来训练和测试一个模型，并对模型的性能和预测能力进行评估。我们希望可以通过该模型实现对房屋的价值预估，提高房地产经纪人的工作效率。\n",
    "\n",
    "#此项目的数据集该数据集统计了美国个人住宅销售情况,文件名为data.csv"
   ]
  },
  {
   "cell_type": "code",
   "execution_count": 59,
   "id": "39ba5eb7",
   "metadata": {},
   "outputs": [
    {
     "name": "stdout",
     "output_type": "stream",
     "text": [
      "                date        price  bedrooms  bathrooms  sqft_living  sqft_lot  \\\n",
      "4189   2014/7/9 0:00  692500.0000         4       2.75         3710      7984   \n",
      "3479  2014/6/26 0:00  626000.0000         3       1.75         2430      5000   \n",
      "4353   2014/5/5 0:00  117833.3333         3       1.00         1340    306848   \n",
      "3218  2014/6/24 0:00  510000.0000         3       2.25         1420      1309   \n",
      "1150  2014/5/22 0:00  926300.0000         3       1.50         1660      4800   \n",
      "\n",
      "      floors  waterfront  view  condition  sqft_above  sqft_basement  \\\n",
      "4189     2.0           0     0          3        3710              0   \n",
      "3479     2.0           0     0          4        1760            670   \n",
      "4353     1.0           0     0          3        1340              0   \n",
      "3218     3.0           0     0          3        1420              0   \n",
      "1150     2.0           0     0          3        1660              0   \n",
      "\n",
      "      yr_built  yr_renovated                     street        city  statezip  \\\n",
      "4189      1999             0    7313 Chanticleer Ave SE  Snoqualmie  WA 98065   \n",
      "3479      1945             0           6723 12th Ave NW     Seattle  WA 98117   \n",
      "4353      1953             0  17827 Mountain View Rd NE      Duvall  WA 98019   \n",
      "3218      2006             0    3821-3825 Whitman Ave N     Seattle  WA 98103   \n",
      "1150      1907          1983             1814 1st Ave W     Seattle  WA 98119   \n",
      "\n",
      "     country  \n",
      "4189     USA  \n",
      "3479     USA  \n",
      "4353     USA  \n",
      "3218     USA  \n",
      "1150     USA  \n",
      "--------------------------------------------\n",
      "              price     bedrooms    bathrooms   sqft_living      sqft_lot  \\\n",
      "count  4.600000e+03  4600.000000  4600.000000   4600.000000  4.600000e+03   \n",
      "mean   5.519630e+05     3.400870     2.160815   2139.346957  1.485252e+04   \n",
      "std    5.638347e+05     0.908848     0.783781    963.206916  3.588444e+04   \n",
      "min    0.000000e+00     0.000000     0.000000    370.000000  6.380000e+02   \n",
      "25%    3.228750e+05     3.000000     1.750000   1460.000000  5.000750e+03   \n",
      "50%    4.609435e+05     3.000000     2.250000   1980.000000  7.683000e+03   \n",
      "75%    6.549625e+05     4.000000     2.500000   2620.000000  1.100125e+04   \n",
      "max    2.659000e+07     9.000000     8.000000  13540.000000  1.074218e+06   \n",
      "\n",
      "            floors   waterfront         view    condition   sqft_above  \\\n",
      "count  4600.000000  4600.000000  4600.000000  4600.000000  4600.000000   \n",
      "mean      1.512065     0.007174     0.240652     3.451739  1827.265435   \n",
      "std       0.538288     0.084404     0.778405     0.677230   862.168977   \n",
      "min       1.000000     0.000000     0.000000     1.000000   370.000000   \n",
      "25%       1.000000     0.000000     0.000000     3.000000  1190.000000   \n",
      "50%       1.500000     0.000000     0.000000     3.000000  1590.000000   \n",
      "75%       2.000000     0.000000     0.000000     4.000000  2300.000000   \n",
      "max       3.500000     1.000000     4.000000     5.000000  9410.000000   \n",
      "\n",
      "       sqft_basement     yr_built  yr_renovated  \n",
      "count    4600.000000  4600.000000   4600.000000  \n",
      "mean      312.081522  1970.786304    808.608261  \n",
      "std       464.137228    29.731848    979.414536  \n",
      "min         0.000000  1900.000000      0.000000  \n",
      "25%         0.000000  1951.000000      0.000000  \n",
      "50%         0.000000  1976.000000      0.000000  \n",
      "75%       610.000000  1997.000000   1999.000000  \n",
      "max      4820.000000  2014.000000   2014.000000  \n"
     ]
    }
   ],
   "source": [
    "# step 2 :观测数据\n",
    "\n",
    "# 2.1 随机查看数据5个样本\n",
    "print(data.sample(5))\n",
    "print(\"--------------------------------------------\")\n",
    "\n",
    "# 2.1 查看数据的统计特征\n",
    "print(data.describe())"
   ]
  },
  {
   "cell_type": "code",
   "execution_count": 60,
   "id": "ffc6a244",
   "metadata": {},
   "outputs": [
    {
     "data": {
      "image/png": "[encoded data removed]",
      "text/plain": [
       "<Figure size 432x288 with 1 Axes>"
      ]
     },
     "metadata": {
      "needs_background": "light"
     },
     "output_type": "display_data"
    },
    {
     "name": "stdout",
     "output_type": "stream",
     "text": [
      "(4412, 18)\n",
      "date             0\n",
      "price            0\n",
      "bedrooms         0\n",
      "bathrooms        0\n",
      "sqft_living      0\n",
      "sqft_lot         0\n",
      "floors           0\n",
      "waterfront       0\n",
      "view             0\n",
      "condition        0\n",
      "sqft_above       0\n",
      "sqft_basement    0\n",
      "yr_built         0\n",
      "yr_renovated     0\n",
      "street           0\n",
      "city             0\n",
      "statezip         0\n",
      "country          0\n",
      "dtype: int64\n"
     ]
    }
   ],
   "source": [
    "# step 3: 数据预处理\n",
    "# 给你们的数据不可能是百分百的干净数据，在采集过程中存在“失误”、“冗余”的数据，这一步骤，要求大家从数据的正确性和完整性两个方面处理数据。\n",
    "#正确性：要求数据中没有异常值。\n",
    "#完整性：采集的数据可能存在缺失，可以采用丢弃数据和填补法完成缺失数据的缺失。\n",
    "\n",
    "# 3.1 正确性处理：可以可视化的方法分析各个特征的异常值，然后去除异常值；\n",
    "plt.scatter(data['sqft_living'], data['price'])\n",
    "plt.xlabel('sqft_living')\n",
    "plt.ylabel('price')\n",
    "plt.show()\n",
    "\n",
    "#删除pirce > 100000或者sqft_living > 4000的数据\n",
    "index = data[(data['price'] > 100000) & (data['sqft_living'] > 4000)].index\n",
    "data.drop(index=index, inplace=True)\n",
    "print(data.shape)\n",
    "\n",
    "# 3.2 完整性处理：去除重复的数据，采用你们认为最合适的方法处理缺失值\n",
    "#删除重复行\n",
    "data = data.drop_duplicates(ignore_index = True)\n",
    "\n",
    "#查看缺失值\n",
    "print(data.isnull().sum())\n",
    "#已经不存在缺失值"
   ]
  },
  {
   "cell_type": "code",
   "execution_count": 61,
   "id": "563477f4",
   "metadata": {},
   "outputs": [
    {
     "name": "stdout",
     "output_type": "stream",
     "text": [
      "['Shoreline' 'Seattle' 'Kent' 'Bellevue' 'Redmond' 'Maple Valley'\n",
      " 'North Bend' 'Lake Forest Park' 'Sammamish' 'Auburn' 'Des Moines'\n",
      " 'Bothell' 'Federal Way' 'Kirkland' 'Issaquah' 'Woodinville'\n",
      " 'Normandy Park' 'Fall City' 'Renton' 'Carnation' 'Snoqualmie' 'Duvall'\n",
      " 'Burien' 'Covington' 'Inglewood-Finn Hill' 'Kenmore' 'Newcastle'\n",
      " 'Black Diamond' 'Ravensdale' 'Clyde Hill' 'Algona' 'Mercer Island'\n",
      " 'Skykomish' 'Tukwila' 'Vashon' 'Yarrow Point' 'SeaTac' 'Medina'\n",
      " 'Enumclaw' 'Snoqualmie Pass' 'Pacific' 'Beaux Arts Village' 'Preston'\n",
      " 'Milton']\n",
      "[ 0  1  2  3  4  5  6  7  8  9 10 11 12 13 14 15 16 17 18 19 20 21 22 23\n",
      " 24 25 26 27 28 29 30 31 32 33 34 35 36 37 38 39 40 41 42 43]\n"
     ]
    }
   ],
   "source": [
    "# step4:特征处理\n",
    "\n",
    "#特征是机器学习中最重要的部分，\n",
    "#4.1 数据编码：对数据集中的非数字信息进行数字编码\n",
    "print(data.city.unique())\n",
    "\n",
    "unique_array = data.city.unique()\n",
    "def map_function(x):\n",
    "    return np.argwhere(x == unique_array)[0,0]\n",
    "data.city = data.city.map(map_function)\n",
    "\n",
    "#查看处理过后的数据\n",
    "print(data.city.unique())\n",
    "\n",
    "#4.2 分析数据是否存在冗余或者与任务不相关的特征，对特征进行降维\n",
    "data = data.drop(['statezip', 'country', 'street', 'date'], axis = 1)"
   ]
  },
  {
   "cell_type": "code",
   "execution_count": 62,
   "id": "32e35f53",
   "metadata": {},
   "outputs": [
    {
     "name": "stdout",
     "output_type": "stream",
     "text": [
      "-0.015417586107882686\n"
     ]
    },
    {
     "data": {
      "image/png": "[encoded data removed]",
      "text/plain": [
       "<Figure size 432x432 with 1 Axes>"
      ]
     },
     "metadata": {
      "needs_background": "light"
     },
     "output_type": "display_data"
    },
    {
     "data": {
      "image/png": "[encoded data removed]",
      "text/plain": [
       "<Figure size 432x288 with 1 Axes>"
      ]
     },
     "metadata": {
      "needs_background": "light"
     },
     "output_type": "display_data"
    }
   ],
   "source": [
    "# step5 模型选择\n",
    "\n",
    "# 本次任务是完成房价的预测，属于回归问题\n",
    "\n",
    "#4.1 请在回归模块中选择合适的模块，对模型进行拟合和预测\n",
    "#数据集划分\n",
    "y = data['price']\n",
    "x = data.drop(['price'], axis=1)\n",
    "x_train,x_test,y_train,y_test = train_test_split(x, y, test_size=0.3, random_state=666)\n",
    "\n",
    "#标准化处理\n",
    "standardscaler = StandardScaler()\n",
    "standardscaler.fit(x_train)\n",
    "X_train_std = standardscaler.transform(x_train)\n",
    "X_test_std = standardscaler.transform(x_test)\n",
    "\n",
    "#训练\n",
    "kNN_reg = KNeighborsRegressor()\n",
    "kNN_reg.fit(X_train_std, y_train)\n",
    "\n",
    "#4.2 评估模型的性能\n",
    "print(kNN_reg.score(x_test,y_test))\n",
    "\n",
    "#4.3 画出模型的学习曲线和验证曲线\n",
    "title = '学习曲线'\n",
    "train_sizes,train_scores,test_scores=learning_curve(KNeighborsRegressor(), x, y)\n",
    "\n",
    "# 设置画布和子图\n",
    "fig,ax=plt.subplots(1,1,figsize=(6,6))\n",
    "\n",
    "# 设置子图坐标\n",
    "ax.set_ylim((-1,1.1))\n",
    "ax.set_xlabel(\"training examples\")\n",
    "ax.set_ylabel(\"score\")\n",
    "\n",
    "# 画出网图\n",
    "ax.grid() \n",
    "ax.plot(train_sizes,np.mean(train_scores,axis=1),'o-',color='r',label='train score')\n",
    "\n",
    "# 画训练集数据分数，横坐标为用作训练的样本数，纵坐标为不同折下的训练分数的均值\n",
    "ax.plot(train_sizes,np.mean(test_scores,axis=1),'o-',color='g',label='test score')\n",
    "ax.legend(loc='best')\n",
    "plt.show()\n",
    "\n",
    "#4.4 选定的模型是否存在超参数，给出一个范围，给处范围内最好的选择，并给出评价分数\n",
    "n_neighbors = [1, 3, 5, 10, 20, 50]\n",
    "\n",
    "cv = KFold(shuffle=True)\n",
    "train_scores, test_scores = validation_curve(KNeighborsRegressor(), x, y, param_name=\"n_neighbors\",\n",
    "                                             param_range=n_neighbors, cv=cv)\n",
    "plt.plot(n_neighbors, train_scores.mean(axis=1), label=\"train accuracy\")\n",
    "plt.plot(n_neighbors, test_scores.mean(axis=1), label=\"test accuracy\")\n",
    " \n",
    "plt.ylabel('Accuracy')\n",
    "plt.xlabel('Number of neighbors')\n",
    "plt.xlim([50, 0])\n",
    "plt.legend(loc=\"best\")\n",
    "plt.show()"
   ]
  }
 ],
 "metadata": {
  "kernelspec": {
   "display_name": "Python 3",
   "language": "python",
   "name": "python3"
  },
  "language_info": {
   "codemirror_mode": {
    "name": "ipython",
    "version": 3
   },
   "file_extension": ".py",
   "mimetype": "text/x-python",
   "name": "python",
   "nbconvert_exporter": "python",
   "pygments_lexer": "ipython3",
   "version": "3.8.8"
  }
 },
 "nbformat": 4,
 "nbformat_minor": 5
}
